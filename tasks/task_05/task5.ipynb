{
 "cells": [
  {
   "cell_type": "code",
   "execution_count": 438,
   "metadata": {},
   "outputs": [],
   "source": [
    "import numpy as np\n",
    "import random\n",
    "from typing import List\n",
    "import matplotlib.pyplot as plt"
   ]
  },
  {
   "cell_type": "markdown",
   "metadata": {},
   "source": [
    "### Случайная величина распределена равномерно на отрезке $[\\theta, 2 \\theta].$\n"
   ]
  },
  {
   "cell_type": "markdown",
   "metadata": {},
   "source": [
    "### Сгенеруйте выборку объёму n = 100 для некоторого значения парамeтра $\\theta$."
   ]
  },
  {
   "cell_type": "code",
   "execution_count": 439,
   "metadata": {},
   "outputs": [],
   "source": [
    "theta = 1\n",
    "\n",
    "def p(x: float) -> float:\n",
    "    return  1 / theta if (2 * theta >= x >= theta) else 0\n",
    "\n",
    "def F(x: float) -> float:\n",
    "    return x/theta - 1 if (2 * theta >= x >= theta) else 0\n",
    "\n",
    "def F_inv(y: float) -> float:\n",
    "    return theta * (y + 1)\n",
    "\n",
    "def generate_samples(n: int) -> List[float]:\n",
    "    return [F_inv(random.random()) for _ in range(n)]\n",
    "\n",
    "N = 100\n",
    "arr = generate_samples(N)"
   ]
  },
  {
   "cell_type": "markdown",
   "metadata": {},
   "source": [
    "### f) Вычислите указанные выше доверительные интегралы для доверительной веротяности 0.95."
   ]
  },
  {
   "cell_type": "markdown",
   "metadata": {},
   "source": [
    "#### Точный доверительный интервал\n",
    "\n",
    "$$\n",
    "P(\\frac{x_{max}}{1 + \\sqrt[n]{\\frac{1 + \\beta}{2}}} < \\theta < \\frac{x_{max}}{1 + \\sqrt[n]{\\frac{1 - \\beta}{2}}})=\\beta\n",
    "$$"
   ]
  },
  {
   "cell_type": "code",
   "execution_count": 440,
   "metadata": {},
   "outputs": [
    {
     "name": "stdout",
     "output_type": "stream",
     "text": [
      "Доверительный интервал: (0.9967077042425534, 1.0149608097893907), длина: 0.018253105546837345\n"
     ]
    }
   ],
   "source": [
    "beta = 0.95\n",
    "x_max = np.max(arr)\n",
    "\n",
    "lower_border1 = x_max/(1 + ((1 + beta) / 2) ** (1 / N))\n",
    "upper_border1 = x_max/(1 + ((1 - beta) / 2) ** (1 / N))\n",
    "\n",
    "print(f\"Доверительный интервал: ({lower_border1}, {upper_border1}), длина: {upper_border1 - lower_border1}\")"
   ]
  },
  {
   "cell_type": "markdown",
   "metadata": {},
   "source": [
    "#### Асимптотический доверительный интервал\n",
    "\n",
    "$$\n",
    "P(\\tilde{\\theta_{1}} - \\frac{2 s t_2 \\sqrt{n-1}}{3 n} < \\theta < \\tilde{\\theta_{1}} - \\frac{2 s t_1 \\sqrt{n-1}}{3 n})=\\beta\n",
    "$$"
   ]
  },
  {
   "cell_type": "code",
   "execution_count": 441,
   "metadata": {},
   "outputs": [
    {
     "name": "stdout",
     "output_type": "stream",
     "text": [
      "Доверительный интервал: (0.9532943216458581, 1.0295915077060431), длина: 0.07629718606018498\n"
     ]
    }
   ],
   "source": [
    "beta = 0.95\n",
    "theta_1 = 2 * np.mean(arr) / 3\n",
    "\n",
    "s = np.sqrt((np.sum([(x - np.mean(arr)) ** 2 for x in arr]))/(N-1))\n",
    "\n",
    "lower_border2 = theta_1 - 2 * s * 1.96 * np.sqrt(N - 1)/(3 * N)\n",
    "upper_border2 = theta_1 + 2 * s * 1.96 * np.sqrt(N - 1)/(3 * N)\n",
    "\n",
    "print(f\"Доверительный интервал: ({lower_border2}, {upper_border2}), длина: {upper_border2 - lower_border2}\")"
   ]
  },
  {
   "cell_type": "markdown",
   "metadata": {},
   "source": [
    "### g)  Численно постройте бутстраповский доверительный интервал."
   ]
  },
  {
   "cell_type": "code",
   "execution_count": 442,
   "metadata": {},
   "outputs": [
    {
     "name": "stdout",
     "output_type": "stream",
     "text": [
      "Доверительный интервал: (1.0015396650958095, 1.0050633982971908), длина: 0.0035237332013813294\n"
     ]
    }
   ],
   "source": [
    "n_iterations = 1000\n",
    "beta = 0.95\n",
    "\n",
    "extra_h = (N + 1) * x_max / (2 * N + 1)\n",
    "\n",
    "bootstrap_deltas = []\n",
    "\n",
    "for _ in range(n_iterations):\n",
    "    sample = np.random.choice(arr, N)\n",
    "    bootstrap_deltas.append((N + 1) * np.max(sample) / (2 * N + 1) - extra_h)\n",
    "\n",
    "variation_row = sorted(bootstrap_deltas)\n",
    "\n",
    "t1 = variation_row[int((1 - beta) * n_iterations / 2)]\n",
    "t2 = variation_row[int((1 + beta) * n_iterations / 2)]\n",
    "\n",
    "\n",
    "lower_border3 = extra_h - t2\n",
    "upper_border3 = extra_h - t1\n",
    "\n",
    "print(f\"Доверительный интервал: ({lower_border3}, {upper_border3}), длина: {upper_border3 - lower_border3}\")\n"
   ]
  },
  {
   "cell_type": "code",
   "execution_count": 443,
   "metadata": {},
   "outputs": [
    {
     "data": {
      "image/png": "[encoded data removed]",
      "text/plain": [
       "<Figure size 640x480 with 1 Axes>"
      ]
     },
     "metadata": {},
     "output_type": "display_data"
    }
   ],
   "source": [
    "x1 = np.linspace(lower_border1, upper_border1, 100)\n",
    "y1 = [1] * 100\n",
    "\n",
    "x2 = np.linspace(lower_border2, upper_border2, 100)\n",
    "y2 = [2] * 100\n",
    "\n",
    "x3 = np.linspace(lower_border3, upper_border3, 100)\n",
    "y3 = [3] * 100\n",
    "\n",
    "plt.plot(x1, y1)\n",
    "plt.plot(x2, y2)\n",
    "plt.plot(x3, y3)\n",
    "\n",
    "plt.legend([\"Точный\", \"Асимптотический\", \"Бутстрап\"])\n",
    "\n",
    "plt.show()"
   ]
  },
  {
   "cell_type": "markdown",
   "metadata": {},
   "source": [
    "### h) Сравнить все интервалы. \n",
    "\n",
    "Длина доверительного интервала: Непараметрический бутстрап < Точный < Асимптотический\n",
    "\n",
    "Так потому, что бутстрап занижает длину доверительного интервала, а точный даёт оценку лучше, чем асимптотический."
   ]
  }
 ],
 "metadata": {
  "kernelspec": {
   "display_name": "Python 3",
   "language": "python",
   "name": "python3"
  },
  "language_info": {
   "codemirror_mode": {
    "name": "ipython",
    "version": 3
   },
   "file_extension": ".py",
   "mimetype": "text/x-python",
   "name": "python",
   "nbconvert_exporter": "python",
   "pygments_lexer": "ipython3",
   "version": "3.13.0"
  }
 },
 "nbformat": 4,
 "nbformat_minor": 2
}
